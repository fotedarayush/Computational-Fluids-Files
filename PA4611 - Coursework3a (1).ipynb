{
 "cells": [
  {
   "cell_type": "markdown",
   "metadata": {},
   "source": [
    "# Coursework for PA4611\n",
    "\n",
    "This notebook contains coursework for PA4611 \"Computational Fluid and Phase-Space Flows\" at University of Leicester.\n",
    "\n",
    "This piece of course is the first half of the second computational project. It is focussed on computational hydrodynamics, in this case using the method of Smoothed Particle Hydrodynamics (SPH) to simulate the flow of a fluid in a 1D. Please refer to the associated slides for some key science and theory."
   ]
  },
  {
   "cell_type": "markdown",
   "metadata": {},
   "source": [
    "## Rules and guidelines for the project\n",
    "\n",
    "This Jupyter notebook, completed, is all that you need to submit. \n",
    "\n",
    "The work must be your own, and you may not source answers from other people or online resources. You may use the course notes, lecture slides, and software documentation or other general information available online (i.e., not specific to these questions).\n",
    "\n",
    "You may not use generative AI to solve the problems. You can use it to do simple tasks with Python (for example, to generate initial conditions for the pendulum task). If so you must clearly document in this notebook which steps were done with the help of AI and which were done by you.\n",
    "\n",
    "The mark for each question will be based on whether the solutions are correct, whether the plots are clear and well-labelled, whether the code runs correctly and is not unnecessarily repetitive, and whether requested text answers are complete, correct and well reasoned.\n",
    "\n",
    "The below notebook cells include some basic code which you should use as a starting point, but you will fill in the rest yourself. Also answer any questions in the text box (i.e., markdown cell) they are asked in. Feel free to add extra cells at any point in the notebook if needed.\n",
    "\n",
    "The notebook you hand in should do all its calculations and plotting when run from start to finish. It should not rely on any external files or data. Check that this is the case before submitting (\"Restart and Run All\" in Jupyter should help you check this)."
   ]
  },
  {
   "cell_type": "markdown",
   "metadata": {},
   "source": [
    "## Mark scheme\n",
    "\n",
    "TBD"
   ]
  },
  {
   "cell_type": "code",
   "execution_count": null,
   "metadata": {},
   "outputs": [],
   "source": [
    "import numpy as np\n",
    "import matplotlib.pyplot as plt\n",
    "import scipy.integrate as integrate"
   ]
  },
  {
   "cell_type": "markdown",
   "metadata": {},
   "source": [
    "## Some important Python knowledge\n",
    "\n",
    "You have been using numpy arrays of values to do your work within this course. There are some very useful ways of accessing the values contained in them that you should be aware of. I'll show a few below."
   ]
  },
  {
   "cell_type": "markdown",
   "metadata": {},
   "source": [
    "### Array slicing"
   ]
  },
  {
   "cell_type": "code",
   "execution_count": null,
   "metadata": {},
   "outputs": [],
   "source": [
    "a = np.array([7,8,4,2,5,9])\n",
    "\n",
    "# You can pick out a single value\n",
    "print(\"The first item is\", a[0], \", note that this has the index 0\")\n",
    "print(\"The last item is\", a[5], \"or, equivalently,\", a[-1], \", note that I can access this with index -1\")"
   ]
  },
  {
   "cell_type": "code",
   "execution_count": null,
   "metadata": {},
   "outputs": [],
   "source": [
    "# You can pick out a range of values\n",
    "print(\"The first three items are\", a[0:3])\n",
    "print(\"The last three items are\", a[-3:])"
   ]
  },
  {
   "cell_type": "markdown",
   "metadata": {},
   "source": [
    "One really useful way of using this is to find the differences between successive values in an array. This is useful for finding the gradient of a function, for example. Here's some example code:"
   ]
  },
  {
   "cell_type": "code",
   "execution_count": null,
   "metadata": {},
   "outputs": [],
   "source": [
    "x = np.array([1,2,3,4,5,6,7])\n",
    "y = x**2\n",
    "print(\"The difference between successive values of y is\", y[1:] - y[:-1])\n",
    "print(\"The difference between successive values of x is\", x[1:] - x[:-1])\n",
    "print(\"The average of successive values of x is\", 0.5*(x[1:] + x[:-1]))\n",
    "print(\"Note that these are all one shorter than the original arrays\")\n"
   ]
  },
  {
   "cell_type": "markdown",
   "metadata": {},
   "source": [
    "### Setting conditions: Boolean indexing"
   ]
  },
  {
   "cell_type": "code",
   "execution_count": null,
   "metadata": {},
   "outputs": [],
   "source": [
    "# I can also set a condition, or multiple conditions, and only pick out values where that is true\n",
    "print(\"The values greater than 5 are\", a[a>5])\n",
    "print(\"The values greater than three but less than 8 are\", a[(a>3) & (a<8)])"
   ]
  },
  {
   "cell_type": "code",
   "execution_count": null,
   "metadata": {},
   "outputs": [],
   "source": [
    "# I can use that syntax to set values to other arrays, so, for example\n",
    "\n",
    "b = np.zeros(len(a)) # set up an array of zeros the same length as a\n",
    "b[a>5] = 1 # set the values of b to 1 where the values of a are greater than 5\n",
    "print(\"The values of b are\", b)"
   ]
  },
  {
   "cell_type": "code",
   "execution_count": null,
   "metadata": {},
   "outputs": [],
   "source": [
    "# Or even\n",
    "b = np.zeros(len(a))\n",
    "b[a>5] = a[a>5] # set the values of b to the values of a where the values of a are greater than 5\n",
    "print(\"The values of b are\", b)"
   ]
  },
  {
   "cell_type": "code",
   "execution_count": null,
   "metadata": {},
   "outputs": [],
   "source": [
    "# Note that the version in this cell will NOT work\n",
    "b[a>5] = a"
   ]
  },
  {
   "cell_type": "markdown",
   "metadata": {},
   "source": [
    "# The SPH kernel"
   ]
  },
  {
   "cell_type": "markdown",
   "metadata": {},
   "source": [
    "The SPH kernel that we will be using is defined in the lecture slides and in the slides for this coursework. It is a cubic spline kernel.\n",
    "\n",
    "\n",
    "You need to implement this kernel as a function in Python. You should calculate the kernel and its gradient with respect to the distance between two particles.\n",
    "\n",
    "You should then check that you have calculated both of these correctly. You should compare to the plot in the slides, which includes checking that the gradient is correct by comparing to a simple numerical derivative.\n",
    "\n"
   ]
  },
  {
   "cell_type": "code",
   "execution_count": null,
   "metadata": {},
   "outputs": [],
   "source": [
    "def calculate_kernel(r, smoothing_length):\n",
    "    '''Calculate the kernel function, W, for an input array of distances r and a smoothing length h'''\n",
    "    \n",
    "    return\n",
    "\n",
    "def calculate_kernel_derivative(r, smoothing_length):\n",
    "    '''Calculate the derivative of the kernel function, W, wrt r for an input array of distances r and a smoothing length h'''\n",
    "    \n",
    "    return\n",
    "\n",
    "r = np.linspace(0,3)\n",
    "\n",
    "# Calculate W and dW/dr for h=1\n",
    "\n",
    "# Calculate the numerical derivative of W i.e. Delta W/Delta r for some small Delta r\n",
    "\n",
    "# Plot all three and compare to slides"
   ]
  },
  {
   "cell_type": "markdown",
   "metadata": {},
   "source": [
    "## Initial conditions\n",
    "\n",
    "I've set these up for you below. They are the same as in the slides. You should use these initial conditions for the rest of the coursework."
   ]
  },
  {
   "cell_type": "code",
   "execution_count": null,
   "metadata": {},
   "outputs": [],
   "source": [
    "particle_mass = 0.001875\n",
    "tube_size = 0.6\n",
    "total_n = 400\n",
    "\n",
    "def set_initial_conditions():\n",
    "\n",
    "    first_partition_n = int(0.8 * total_n)\n",
    "    pos = np.zeros(total_n)\n",
    "\n",
    "    pos[:first_partition_n] = np.linspace(-tube_size, 0, first_partition_n, endpoint=False)\n",
    "    pos[first_partition_n:] = np.linspace(0, tube_size, total_n - first_partition_n, endpoint=False)\n",
    "\n",
    "    # initial velocity = 0\n",
    "    vel = np.zeros(total_n)\n",
    "\n",
    "    initial_e_val = (2.5, 1.795)\n",
    "    #initial_p_val = (1, 0.1795)\n",
    "    initial_rho_val = (1, 0.25)\n",
    "\n",
    "    energy = np.ones(total_n)\n",
    "    energy[:first_partition_n] = initial_e_val[0]\n",
    "    energy[first_partition_n:] = initial_e_val[1]\n",
    "\n",
    "    density = np.ones(total_n)\n",
    "    density[:first_partition_n] = initial_rho_val[0]\n",
    "    density[first_partition_n:] = initial_rho_val[1]\n",
    "    return pos, density, vel, energy\n",
    "\n",
    "\n",
    "# Make sure you reset before running any code or tests!\n",
    "pos, density, vel, energy  = set_initial_conditions()"
   ]
  },
  {
   "cell_type": "markdown",
   "metadata": {},
   "source": [
    "# Implementing a 1D SPH code\n",
    "\n",
    "The basic equations that you need to solve are given in the slides. You should implement these in Python. For your first attempt do not include any artificial viscosity. We will return to that later.\n",
    "\n",
    "You need to calculate the effect on each particle of all other particles. I see two methods of doing this, and I think either is valid. Chose which one you are more comfortable with.\n",
    "\n",
    "First, you could loop over all particles, and for each particle calculate the effect of all other particles. This is the most straightforward way of doing it, but it is also the slowest. A pseudocode version of this is:\n",
    "\n",
    "```\n",
    "def calculate(INPUTS):\n",
    "    pressure = energy * (gamma - 1) * density\n",
    "    density_derivative = np.zeros(Number_of_particles)\n",
    "    # Similar for velocity & energy\n",
    "\n",
    "    for i in range(Number_of_particles): \n",
    "        # Calculate vector of differences between particle i and all other particles\n",
    "        position_difference = position[i] - position\n",
    "        # Calculate the derivative of the kernel function for each particle\n",
    "        # Be sure to ensure that the sign of the derivative is correct\n",
    "\n",
    "        # Similarly for the velocity\n",
    "        velocity_difference = velocity[i] - velocity\n",
    "\n",
    "        density_derivative[i] = sum(velocity_difference * mass * kernel_derivative_term)\n",
    "        etc\n",
    "        return density_derivative, etc\n",
    "```\n",
    "\n",
    "\n",
    "Alternatively you could use numpy broadcasting to do all the particles at once rather than using a loop. This is a bit harder to follow, but may be somewhat faster. A pseudocode version of this is:\n",
    "\n",
    "```\n",
    "def calculate(INPUTS):\n",
    "    pressure = energy * (gamma - 1) * density\n",
    "    position_difference = position[:, np.newaxis] - position[np.newaxis, :]\n",
    "\n",
    "    etc\n",
    "    density_derivative = sum(velocity_difference * mass * kernel_derivative_term, axis=1)\n",
    "\n",
    "    return density_derivative, etc\n",
    "```"
   ]
  },
  {
   "cell_type": "markdown",
   "metadata": {},
   "source": [
    "## SPH without artificial viscosity"
   ]
  },
  {
   "cell_type": "code",
   "execution_count": null,
   "metadata": {},
   "outputs": [],
   "source": [
    "def calculate_derivatives(pos, density, vel, energy, smoothing_length):\n",
    "    '''Calculate the derivatives of the state variables density, velocity and energy \n",
    "     \n",
    "    Inputs are a set of positions, densities, velocities and energies, and the\n",
    "    smoothing length, but note that since you are using a leapfrog integrator, \n",
    "    you don't need to calculate the derivative of position'''\n",
    "    # Fill in this function yourself\n",
    "    return\n",
    "\n",
    "\n",
    "def leapfrog(pos, density, vel, energy, dt, smoothing_length):\n",
    "    '''Take a single leapfrog step'''\n",
    "    # Fill in this function yourself\n",
    "    # Things to do:\n",
    "    #   Step positon forwards by 0.5*vel*dt\n",
    "    #   Calculate the derivatives using these new positions\n",
    "    #   Step velocity, density, energy, forwards by dt with these new derivatives\n",
    "    #   Step position forwards by 0.5*vel*dt\n",
    "    return # the new values of pos, density, vel, energy\n",
    "\n"
   ]
  },
  {
   "cell_type": "markdown",
   "metadata": {},
   "source": [
    "## Run a simulation\n",
    "\n",
    "Set up a simulation with the initial conditions given above. Run the simulation with $dt=0.002$ for 100 steps. Plot the density, velocity and pressure of the particles as a function of position for a few different times during the simulation.\n",
    "\n",
    "Be aware that you can expect significant oscillation around the expected solution. This is due to the numerical solution we are using. The oscillations should reduce over time, but are also reduced with \n"
   ]
  },
  {
   "cell_type": "code",
   "execution_count": null,
   "metadata": {},
   "outputs": [],
   "source": [
    "# Run a simulation\n",
    "pos, density, vel, energy  = set_initial_conditions()\n",
    "\n",
    "# Your bit:\n"
   ]
  },
  {
   "cell_type": "code",
   "execution_count": null,
   "metadata": {},
   "outputs": [],
   "source": []
  },
  {
   "cell_type": "markdown",
   "metadata": {},
   "source": [
    "### You have control of numerical parameters of your simulation (most simply, timestep or smoothing length)\n",
    "\n",
    "Adjust one or more of these and look at the results. Describe what you have done and your results. Use as many markdown or Python cells as you need to do this. "
   ]
  },
  {
   "cell_type": "markdown",
   "metadata": {},
   "source": []
  },
  {
   "cell_type": "code",
   "execution_count": null,
   "metadata": {},
   "outputs": [],
   "source": []
  },
  {
   "cell_type": "markdown",
   "metadata": {},
   "source": []
  },
  {
   "cell_type": "code",
   "execution_count": null,
   "metadata": {},
   "outputs": [],
   "source": []
  },
  {
   "cell_type": "markdown",
   "metadata": {},
   "source": [
    "# SPH with artificial viscosity"
   ]
  },
  {
   "cell_type": "markdown",
   "metadata": {},
   "source": [
    "Final step. Implement artificial viscosity in your code.\n",
    "\n",
    "This is a bit more complicated than the previous steps. Many of you will not get to this point, and that is OK. You will still get a good mark if you have done the previous steps well."
   ]
  }
 ],
 "metadata": {
  "kernelspec": {
   "display_name": "Agama_env",
   "language": "python",
   "name": "python3"
  },
  "language_info": {
   "codemirror_mode": {
    "name": "ipython",
    "version": 3
   },
   "file_extension": ".py",
   "mimetype": "text/x-python",
   "name": "python",
   "nbconvert_exporter": "python",
   "pygments_lexer": "ipython3",
   "version": "3.12.4"
  }
 },
 "nbformat": 4,
 "nbformat_minor": 2
}
