{
 "cells": [
  {
   "cell_type": "markdown",
   "metadata": {},
   "source": [
    "# Coursework for PA4611\n",
    "\n",
    "This notebook contains coursework for PA4611 \"Computational Fluid and Phase-Space Flows\" at University of Leicester.\n",
    "\n",
    "This piece of course is the first computational project (following the analytical problems that were the first element of the coursework). It is focussed on phase-space flows, using the examples of pendulums and collisionless N-body simulations of astrophysical systems."
   ]
  },
  {
   "cell_type": "markdown",
   "metadata": {},
   "source": [
    "## Rules and guidelines for the coursework\n",
    "\n",
    "This Jupyter notebook, completed, is all that you need to submit. \n",
    "\n",
    "The work must be your own, and you may not source answers from other people or online resources. You may use the course notes, lecture slides, and software documentation or other general information available online (i.e., not specific to these questions).\n",
    "\n",
    "You may not use generative AI to solve the problems. You can use it to do simple tasks with Python (for example, to generate initial conditions for the pendulum task). If so you must clearly document in this notebook which steps were done with the help of AI and which were done by you.\n",
    "\n",
    "The mark for each question will be based on whether the solutions are correct, whether the plots are clear and well-labelled, whether the code runs correctly and is not unnecessarily repetitive, and whether requested text answers are complete, correct and well reasoned.\n",
    "\n",
    "The below notebook cells include some basic code which you should use as a starting point, but you will fill in the rest yourself. Also answer any questions in the text box (i.e., markdown cell) they are asked in. Feel free to add extra cells at any point in the notebook if needed.\n",
    "\n",
    "The notebook you hand in should do all its calculations and plotting when run from start to finish. It should not rely on any external files or data. Check that this is the case before submitting (\"Restart and Run All\" in Jupyter should help you check this)."
   ]
  },
  {
   "cell_type": "markdown",
   "metadata": {},
   "source": [
    "## Mark scheme\n",
    "\n",
    "There are a total of 5 separate tasks in this coursework. There are a total of 100 marks, broken down as follows:\n",
    "\n",
    "* Task 1 is worth 30 marks\n",
    "* Task 2 is worth 10 marks\n",
    "* Tasks 3-5 are each worth 20 marks\n",
    "\n",
    "For each task (except task 3), 60% of the marks are for completing the task correctly with some leeway for minor errors, and partial marks for partially correct answers. 10% are for the clarity and quality of the plots, 10% for the clarity and quality of the code, and 20% for the text answers.\n",
    "\n",
    "Task 3 is weighted towards text answers, so 60% of the marks are for the text answers, 20% for the numerical results and again 10% each for the clarity of the plots and code."
   ]
  },
  {
   "cell_type": "code",
   "execution_count": 8,
   "metadata": {},
   "outputs": [],
   "source": [
    "import numpy as np\n",
    "import matplotlib.pyplot as plt\n",
    "import scipy.integrate as integrate\n",
    "# import scienceplots\n",
    "# plt.style.use(['science', 'notebook', 'grid'])\n"
   ]
  },
  {
   "cell_type": "markdown",
   "metadata": {},
   "source": [
    "## Pendulums\n",
    "\n",
    "First we will consider the simple case of a pendulum of unit mass and length, under Earth's gravitational field. This is a problem that we have already looked at in Workshops, and you are allowed to reuse your code from that workshop here.\n",
    "\n"
   ]
  },
  {
   "cell_type": "markdown",
   "metadata": {},
   "source": [
    "#### Use a numerical integrator to solve for the pendulum's motion\n",
    "\n",
    "In Workshop 3 you followed the motion of the pendulum using scipy's integrate library (specifically the odeint function). You can repeat that for the next two tasks.\n",
    "\n",
    "### Task 1: Follow the motion of a box in phase-space. \n",
    "\n",
    "In workshop 3 we followed the evolution of a box in phase space for the pendulum. We found that the box rotated and distorted in phase-space over time, such that we could no longer accurately compute the area of the box using only its 4 corners.\n",
    "\n",
    "In this task you will more carefully follow the evolution of the box in phase-space. The specific tasks are\n",
    "\n",
    "* (Re)-write code that follows the evolution of a phase-space point in the pendulum system.\n",
    "* Define a box in phase-space, and place points along its sides.\n",
    "* Integrate the evolution of these phase-space points for 6 time units using the scipy odeint function\n",
    "* Plot example 'boxes' at selected times during the evolution.\n",
    "* Determine the area as a function of time for the box, varying the number of points along each side of the initial box.\n"
   ]
  },
  {
   "cell_type": "markdown",
   "metadata": {},
   "source": [
    "First, create a function that gives the phase-space derivative of the pendulum, given the current state of the pendulum. This function should take the current state of the pendulum (position and velocity) and return the derivative of the state (velocity and acceleration).\n",
    "\n",
    "Note that you must use the full equation of motion of the pendulum that holds for all angles (i.e., does not depend on the small angle approximation).\n"
   ]
  },
  {
   "cell_type": "code",
   "execution_count": 9,
   "metadata": {},
   "outputs": [],
   "source": [
    "g=9.81\n",
    "phase_space_point = np.array([0.05, 0])\n",
    "amplitude = 0.05\n",
    "def time_derivative_pendulum(phase_space_point, time):\n",
    "\n",
    "    angle = phase_space_point[0]\n",
    "    momentum = phase_space_point[1]\n",
    "    angle_derivative = momentum # because m & l are 1\n",
    "    momentum_derivative = -g * np.sin(angle) # because m & l are 1 and small angle approximation\n",
    "    return [angle_derivative, momentum_derivative]\n",
    "\n",
    "    \n"
   ]
  },
  {
   "cell_type": "markdown",
   "metadata": {},
   "source": [
    "Next, create a set of points that runs (sequentially) around the sides of a box $1\\leq \\theta \\leq1.2$, $1\\leq p_\\theta\\leq 1.2$. Some of the needed code is supplied below, but you will need to complete it."
   ]
  },
  {
   "cell_type": "code",
   "execution_count": 10,
   "metadata": {},
   "outputs": [
    {
     "data": {
      "image/png": "[encoded data removed]",
      "text/plain": [
       "<Figure size 600x600 with 1 Axes>"
      ]
     },
     "metadata": {},
     "output_type": "display_data"
    }
   ],
   "source": [
    "# the four sides of a square in phase space\n",
    "\n",
    "n_per_side = 20\n",
    "x_top = np.linspace(1,1.2,n_per_side) \n",
    "# values of x running along the top of the box\n",
    "y_top = np.ones(n_per_side) + 0.2 \n",
    "# values of y running along the top of the box. This is 1.2 for all points, \n",
    "# and is created by making a set of points of value 1 (using the function np.ones), and adding 0.2 to all values\n",
    "x_right = np.ones(n_per_side)+0.2 # values of x running along the right side of the box\n",
    "# fill in the equivalents for x & y around the rest of the box\n",
    "y_right = np.linspace(1.2, 1, n_per_side)\n",
    "x_left = np.ones(n_per_side) # values of x running along the left side\n",
    "y_left = np.linspace(1, 1.2, n_per_side)\n",
    "\n",
    "x_bottom = np.linspace(1.2, 1, n_per_side)\n",
    "y_bottom = np.ones(n_per_side)\n",
    "# I will tell you that you need x_bottom = np.linspace(1.2,1,n_per_side), rather than (1,1.2,...) so the values of x run from 1.2 to 1\n",
    "\n",
    "# Put them all together to make the initial phase space square\n",
    "x_full = np.concatenate([x_top, x_right, x_bottom, x_left])\n",
    "y_full = np.concatenate([y_top, y_right, y_bottom, y_left])\n",
    "initial_phase_space_square = np.stack([x_full, y_full], axis=1)\n",
    "\n",
    "plt.figure(figsize=(6,6))\n",
    "plt.plot(x_full, y_full, 'b-', lw=2)\n",
    "plt.scatter(x_full, y_full, color='red')\n",
    "plt.xlabel(r\"$\\theta$\")\n",
    "plt.ylabel(r\"$p_{\\theta}$\")\n",
    "# plt.title(\"Initial Phase-Space Square\")\n",
    "plt.grid(True)\n",
    "plt.show()"
   ]
  },
  {
   "cell_type": "markdown",
   "metadata": {},
   "source": [
    "Integrate the equations of motion forwards by 6 time units, and plot some of the boxes at different times. \n"
   ]
  },
  {
   "cell_type": "code",
   "execution_count": null,
   "metadata": {},
   "outputs": [
    {
     "data": {
      "image/png": "[encoded data removed]",
      "text/plain": [
       "<Figure size 800x800 with 1 Axes>"
      ]
     },
     "metadata": {},
     "output_type": "display_data"
    }
   ],
   "source": [
    "# Integrate here, and plot results\n",
    "t_numerical = np.linspace(0, 6, 61) # The values of t at which I want the integrator to give me results\n",
    "\n",
    "all_output = np.zeros((len(initial_phase_space_square), len(t_numerical), 2))\n",
    "for i in range(len(initial_phase_space_square)):\n",
    "    results = integrate.odeint(time_derivative_pendulum, y0=initial_phase_space_square[i], t=t_numerical)\n",
    "    all_output[i] = results\n",
    "\n",
    "time_plot = [0, 15, 30, 45, 60]\n",
    "\n",
    "plt.figure(figsize=(8, 8))\n",
    "for tp in time_plot:\n",
    "    plt.plot(all_output[:, tp, 0], all_output[:, tp, 1], label=f't={t_numerical[tp]:.2f}')\n",
    "\n",
    "plt.xlabel(r'$\\theta$')\n",
    "plt.ylabel(r'$p_\\theta$')\n",
    "plt.legend()\n",
    "plt.grid(True)\n",
    "plt.show()\n"
   ]
  },
  {
   "cell_type": "markdown",
   "metadata": {},
   "source": [
    "Now you should have code that will follow the evolution of the system using any number of particles along the sides to trace the outline of the phase-space area.\n",
    "\n",
    "Now, you should calculate the area of the box as a function of time and plot it. You should do this for 5 points per side, then for double the number of points, then double again and so on until the results converge (i.e., do not change significantly when the number of points is doubled)\n",
    "\n",
    "**Some advice:**  \n",
    "You will save some time for yourself if you create a function that takes as input the starting coordinates of the box and number of points per side, and returns the output of the numerical integration. This will allow you to easily change the number of points per side and re-run the calculation."
   ]
  },
  {
   "cell_type": "code",
   "execution_count": 21,
   "metadata": {},
   "outputs": [
    {
     "data": {
      "image/png": "[encoded data removed]",
      "text/plain": [
       "<Figure size 640x480 with 1 Axes>"
      ]
     },
     "metadata": {},
     "output_type": "display_data"
    }
   ],
   "source": [
    "def PolyArea(x,y):\n",
    "    '''A function that calculates the area of a polygon given the x and y coordinates of its vertices'''\n",
    "    # Thanks to the writer of the top answer here: \n",
    "    # https://stackoverflow.com/questions/24467972/calculate-area-of-polygon-given-x-y-coordinates\n",
    "    return 0.5*np.abs(np.dot(x,np.roll(y,1))-np.dot(y,np.roll(x,1)))\n",
    "\n",
    "\n",
    "# In this cell you should create a figure showing area (y-axis) as a function of time (x-axis) for the \n",
    "# different values (separate lines, labelled) of the initial phase space points per side of the square.\n",
    "\n",
    "for i in range(len(t_numerical)):\n",
    "    area = PolyArea(all_output[:,i,0], all_output[:,i,1])\n",
    "    plt.plot(t_numerical[i], area, 'bx')\n",
    "plt.xlabel('t')\n",
    "plt.ylabel('area')\n",
    "plt.show()"
   ]
  },
  {
   "cell_type": "markdown",
   "metadata": {},
   "source": [
    "#### Question:\n",
    "\n",
    "Given the results above, what can you say about the properties of the integration method used by scipy's odeint function?\n",
    "\n",
    "$\\color{blue}{\\text{[Give your answer here]}}$"
   ]
  },
  {
   "cell_type": "markdown",
   "metadata": {},
   "source": [
    "### Task 2: A different area of phase-space for the pendulum problem\n",
    "\n",
    "Using the same methods as in task 1, follow the evolution of a phase-space box for the pendulum where the initial square of phase-space points is defined by $-0.1<\\theta<0.1$, $6.2<p_\\theta<6.4$. This will behave qualitatively differently from the previous case.\n",
    "\n",
    "Follow the evolution for the same span of time as in Task 1. Plot the points at different times to demonstrate the evolution of the system particularly around $t\\approx1$ when the system is at its most interesting. (*Hint* do not try to connect the points with lines, just plot them as points)."
   ]
  },
  {
   "cell_type": "code",
   "execution_count": 13,
   "metadata": {},
   "outputs": [],
   "source": [
    "###  One helpful code snippet, which you can use to ensure that theta is between -pi and pi is:\n",
    "# angle_out = np.mod(angle_out[:,:,0], 2*np.pi) # sets the angle between 0 and 2 pi\n",
    "# angle_out[:,:,0][angle_out[:,:,0]> np.pi] -= 2*np.pi # sets the angle between -pi and pi"
   ]
  },
  {
   "cell_type": "markdown",
   "metadata": {},
   "source": [
    "#### Question:\n",
    "\n",
    "Explain physically why the set of phase-space points do not stay together as a coherent box in this case. What is the pendulum doing (physically, i.e. what would you see if you were looking at these individual pendulums) in the two different cases you have found?\n",
    "\n",
    "$\\color{blue}{\\text{[Give your answer here]}}$"
   ]
  },
  {
   "cell_type": "markdown",
   "metadata": {},
   "source": [
    "## Galactic dynamics"
   ]
  },
  {
   "cell_type": "markdown",
   "metadata": {},
   "source": [
    "### Task 3: Jeans equations\n",
    "\n",
    "This task is somewhat less computational than the others, but is a good test of your understanding of the material. We will be applying what you have learned about Jeans equations to the estimation of the dark matter density near the Sun.\n",
    "\n",
    "In 2012, a paper (that I will be polite enough not to cite) suggested that there was a lack of dark matter in the Solar neighbourhood. This got a significant amount of press attention, and even an article in New Scientist. It was based on measurements of the velocity dispersion of stars in the higher-up parts of the Milky Way disc, and use of Jeans equations to use these to estimate a mass density profile in the Solar neighbourhood.\n",
    "\n",
    "The paper was wrong. The statistical analysis used to find the velocity dispersions was wrong, and the Jeans equations were applied with unreasonable assumptions. We can, however, use this as a learning exercise in the Jeans equations."
   ]
  },
  {
   "cell_type": "markdown",
   "metadata": {},
   "source": [
    "#### Question\n",
    "In lectures we saw that the collisionless Boltzmann equation can be written in cylindrical polar coordinates as \n",
    "\n",
    "$$ \\frac{\\partial f}{\\partial t} + p_R \\frac{\\partial f}{\\partial R} + p_z \\frac{\\partial f}{\\partial z} + \\frac{p_\\phi}{R^2} \\frac{\\partial f}{\\partial \\phi} - \\left(\\frac{\\partial \\Phi}{\\partial R} - \\frac{p_\\phi^2}{R^3}\\right) \\frac{\\partial f}{\\partial p_R} - \\frac{\\partial \\Phi}{\\partial z} \\frac{\\partial f}{\\partial p_z} = 0 $$\n",
    "\n",
    "where $f$ is the distribution function, $\\Phi(R,z)$ is the gravitational potential which is axisymmetric, and $v_R$, $v_z$, and $v_\\phi$ are the velocity components in the radial, vertical, and azimuthal directions respectively.\n",
    "\n",
    "Explain mathematically how we can derive this equation from the collisionless Boltzmann equation in the form\n",
    "\n",
    "$$ \\frac{\\partial f}{\\partial t} + \\frac{\\partial f}{\\partial \\mathbf{q}} \\cdot \\dot{\\mathbf{q}} +  \\frac{\\partial f}{\\partial \\mathbf{p}} \\cdot \\dot{\\mathbf{p}} = 0 $$\n",
    "\n",
    "It is best to explain this term-by-term rather than in one big equation.\n",
    "\n",
    "$\\color{blue}{\\text{[Give your answer here]}}$\n"
   ]
  },
  {
   "cell_type": "markdown",
   "metadata": {},
   "source": [
    "#### Question\n",
    "The critical assumption in the paper was that the average azimuthal velocity of stars in the Milky Way is constant with radius. A far more accurate assumption is that the circular velocity (given by $v_c = \\sqrt{R \\frac{\\partial \\Phi}{\\partial R}}$) is constant with radius.\n",
    "\n",
    "Explain why these assumptions are different from one another. You may quote Jeans equations without deriving them.\n",
    "\n",
    "$\\color{blue}{\\text{Answer here}}$\n"
   ]
  },
  {
   "cell_type": "markdown",
   "metadata": {},
   "source": [
    "#### Question\n",
    "\n",
    "Writing the gravitational force in the $R$ and $z$ directions as $F_R$ and $F_z$ respectively, the Poisson equation for the gravitational potential tells us that\n",
    "\n",
    "$$\\Sigma(R,z) = \\frac{-1}{2\\pi G} \\left( F_z + \\int_0^z \\frac{1}{R} \\frac{\\partial R F_R}{\\partial R} dz \\right)$$\n",
    "\n",
    "where $\\Sigma(R,z) = \\int_{-z}^z \\rho(R,z) dz$ is the surface density of the mass distribution up to a height z.\n",
    "\n",
    "Explain why, if we assume that the circular velocity is constant with radius, the integral term in this equation is zero.\n",
    "\n",
    "$\\color{blue}{\\text{[Give your answer here]}}$"
   ]
  },
  {
   "cell_type": "markdown",
   "metadata": {},
   "source": [
    "With this assumption, we are left with the equation $\\Sigma(R,z) = \\frac{-F_z}{2\\pi G}$. Using the vertical component of Jeans equation in the form:\n",
    "\n",
    "$$ F_z = -\\frac{\\partial \\Phi}{\\partial z} = \\frac{1}{Rn} \\frac{\\partial (R n \\sigma_{Rz}^2)}{\\partial R} + \\frac{1}{n} \\frac{\\partial n\\sigma_z^2}{\\partial z}$$\n",
    "\n",
    "we can calculate $F_z$ and therefore $\\Sigma(R,z)$. We assume that the number density follows an exponential profile, $n(R,z) = n_0 \\exp(-R/R_s - |z|/z_s)$, and that $\\sigma_{Rz}^2$ varies with radius like $\\sigma_{Rz}^2 = \\sigma_{Rz,0}^2 (-R/R_\\sigma)$. The values $R_s, z_s$ and $R_\\sigma$ are constants.\n",
    "\n",
    "Using product rule to differentiate the expression for $F_z$, you should be able to find a expression that depends only on the values given below. Hence find $F_z(R_0,z)$ (this will be in units km  $^2$ s $^{-2}$ kpc $^{-1}$), where $R_0$ is the distance from the Galactic Centre to the Sun, and also the radius at which all of the observed values are taken.\n",
    "\n",
    "The values you will need are:\n",
    "\n",
    "$R_0 = 8.$ kpc  \n",
    "$R_s=3.8$ kpc   \n",
    "$R_\\sigma = 3.8$ kpc  \n",
    "$z_s = 0.9$ kpc  \n",
    "\n",
    "$\\sigma_z = 40 + 2.7(|z|/\\text{kpc} -2.5)$ km s $^{-1}$   Note that the force will depend on $\\sigma_z^2$  \n",
    "$\\sigma^2_{Rz,0} = 1500 + 360(|z|/\\text{kpc} -2.5)$ km $^2$ s $^{-2}$\n",
    "\n",
    "These are also given as constants and functions in the code below.\n",
    "\n",
    "$\\color{blue}{\\text{[Give equation you derive here]}}$"
   ]
  },
  {
   "cell_type": "markdown",
   "metadata": {},
   "source": [
    "Plot $F_z$ as a function of $z$ for $1<z<4$ kpc."
   ]
  },
  {
   "cell_type": "code",
   "execution_count": 14,
   "metadata": {},
   "outputs": [],
   "source": [
    "R_0, R_s, R_sigma, z_s = 8, 3.8, 3.8, 0.9 # constants in kpc as given above\n",
    "\n",
    "def sigma_z(z):\n",
    "    '''The vertical velocity dispersion as a function of z'''\n",
    "    sig_z = 40 + 2.7*(np.abs(z)-2.5)\n",
    "    return sig_z\n",
    "def sigma_z2(z):\n",
    "    '''The vertical velocity dispersion squared as a function of z'''\n",
    "    return (sigma_z(z))**2\n",
    "\n",
    "def dsigma_z2_dz(z):\n",
    "    '''The derivative of the vertical velocity dispersion squared with respect to z'''\n",
    "    sig_z = sigma_z(z)\n",
    "    return 2 * sig_z * 2.7 * np.sign(z)\n",
    "\n",
    "def sigma_Rz2(z):\n",
    "    '''the R-z component of the velocity dispersion squared'''\n",
    "    return 1500 + 360 * (np.abs(z)-2.5)\n"
   ]
  },
  {
   "cell_type": "markdown",
   "metadata": {},
   "source": [
    "To convert this to the surface density (i.e. multiply by a factor of $-1/(2\\pi G)$, and convert to solar masses per square parsec), you must simply multiply it by a factor of $-27$. \n",
    "\n",
    "Therefore, plot $\\Sigma(R_0,z)$ as a function of $z$ for $1<z<4$ kpc, and compare to the surface density of the visible matter in the Milky Way disc, which is around 60 solar masses per square parsec. Is the Milky Way disc in the Solar Neighbourhood really lacking dark matter?"
   ]
  },
  {
   "cell_type": "code",
   "execution_count": null,
   "metadata": {},
   "outputs": [],
   "source": []
  },
  {
   "cell_type": "markdown",
   "metadata": {},
   "source": [
    "### Task 4: Integrating orbits in a gravitational potential\n",
    "\n",
    "You will now look at the properties of four different orbit integrators:\n",
    "1. The Modified Euler method\n",
    "2. The 2nd order Runge-Kutta method\n",
    "3. The leapfrog method\n",
    "4. The 4th order Runge-Kutta method\n",
    "\n",
    "You will apply these to the orbit of a test particle in a fixed gravitational potential, the logarithmic potential\n",
    "\n",
    "$$ \\Phi = \\ln(r) + const $$\n",
    "\n",
    "where $r$ is the distance from the origin. The acceleration of the test particle is then\n",
    "\n",
    "$$ \\mathbf{a} = -\\frac{1}{r^2} \\mathbf{r} $$\n",
    "\n",
    "where $\\mathbf{r}$ is the position vector of the test particle, so that the magnitude of the acceleration is $1/r$, directed towards the origin.\n",
    "\n",
    "I will set up the gravitational potential and force, and the initial conditions for you, which should result in an orbit that has a maximum $r=2$, a minimum $r$ around 0.93, and a period of around 6.6 time units.\n",
    "\n",
    "Your tasks are\n",
    "* Write functions that implement each of the integrators (these must be entirely your own work, i.e. calling a scipy integrator to do the integration will not earn you any marks)\n",
    "* Integrate the orbit for 300 time units \n",
    "    * Your timestep should be 0.02 time units per evaluation of the acceleration (i.e., 0.02 for integrators 1 & 3; 0.04 for integrator 2 and 0.08 for integrator 4)\n",
    "    * You should store the position, velocity and energy (per unit mass) of the test particle at each timestep\n",
    "* Plot the absolute change in energy of the test particle as a function of time for each integrator\n",
    "    * It is a good idea to check that the orbit looks okay for each integrator before doing this, just for yourself to make sure that the integrator is working correctly.\n",
    "    * When plotting the difference in energy, you should plot the absolute value of the difference in energy, and use logarithmic spacing on the y-axis (example code given below).\n"
   ]
  },
  {
   "cell_type": "code",
   "execution_count": 15,
   "metadata": {},
   "outputs": [],
   "source": [
    "def GravPot(pos):\n",
    "    '''A function that calculates the gravitational potential due to a logarithmic potential'''\n",
    "    r = np.sqrt(pos[0]**2 + pos[1]**2 + pos[2]**2)\n",
    "    pot = np.log(r) # Can add an arbitrary constant here, but it will cancel out when calculating the force or \n",
    "    return pot\n",
    "\n",
    "def GravForce(pos):\n",
    "    '''A function that calculates the gravitational force (in component form) due to a logarithmic potential'''\n",
    "    r = np.sqrt(pos[0]**2 + pos[1]**2 + pos[2]**2)\n",
    "    force = -pos/r**2 \n",
    "    return force\n",
    "\n",
    "\n",
    "r0, v0 = 2., 0.65\n",
    "w0 = np.array([r0, 0, 0, 0, v0, 0]) # initial conditions - at radius r0 with velocity v0 in the direction of rotation\n",
    "\n",
    "\n",
    "tmax = 300\n",
    "dtME = 0.02  # time step for the Modified Euler integrator\n",
    "nstepsME = int(tmax/dtME) # number of steps for the Modified Euler integrator\n",
    "\n",
    "\n",
    "# When plotting the energy, you are in all cases subtracting the initial energy from the energy at \n",
    "# each time step, and then taking the absolute value. So, for example, with initial energy E0, and \n",
    "# energy at all timesteps for the Modified Euler integrator stored in the numpy array E_ME,\n",
    "# you would plot np.abs(E_ME - E0) on the y-axis against time on the x-axis.\n",
    "\n",
    "# You would then set the y-axis to be on a log scale using plt.yscale('log').\n",
    "\n",
    "# You will probably want to adjust the range of values on the y-axis, because some values\n",
    "# will be very close to zero, and so will not be visible on a log scale. \n",
    "# You can do this using e.g., plt.ylim([1e-8, 1e-1]).\n",
    "\n"
   ]
  },
  {
   "cell_type": "markdown",
   "metadata": {},
   "source": [
    "#### Question:\n",
    "\n",
    "Using what you know about these intergrating methods, explain the behaviour seen in your plots of energy difference as a function of time.\n",
    "\n",
    "$\\color{blue}{\\text{[Give your answer here]}}$"
   ]
  },
  {
   "cell_type": "markdown",
   "metadata": {},
   "source": [
    "### Task 5: The first N-body simulations\n",
    "\n",
    "In 1941, while the rest of the world was rather busy with other things, a Swedish astrophysicist called Erik Holmberg performed the first N-body simulation of a galaxy. He did it using lightbulbs and a photometer to measure the gravitational force from each lightbulb on the others to demonstrate the effect that encounters between \"extragalactic nebulae\" (i.e., galaxies) could have on one another.\n",
    "\n",
    "Now, using the major advances in computational technology that have occurred since 1941, you will recreate his simulation without needing to measure the light intensity from a lightbulb even once. It should mean that your calculations are more speedy than his.\n",
    "\n",
    "I will give you code that sets up the initial conditions for the simulation, and you will need to write the code that integrates the orbits of the particles in the simulation. I will give guidance along the way.\n",
    "\n",
    "Your main tasks are to:\n",
    "* Write a function that calculates the acceleration of each particle in the simulation, assuming that the gravitational force for each particle is smoothed.\n",
    "* Use this function and a leapfrog integrator that you write to integrate the orbits of the particles in the simulation for 15 time units.\n",
    "\n",
    "Important note:  \n",
    "Throughout this we are assuming that $G=1$ in the unit system used. If we want to apply this to real systems, then we would need to convert the units to physical units. That is not necessary for this task."
   ]
  },
  {
   "cell_type": "code",
   "execution_count": 16,
   "metadata": {},
   "outputs": [],
   "source": [
    "\n",
    "def CreateGalaxy():\n",
    "    '''A function that creates the initial conditions for a galaxy\n",
    "    \n",
    "    The galaxy is made up of 37 particles, with the central particle at the origin, and the rest in 4 rings around it.\n",
    "    The particles have different masses and, initially, are moving on almost circular orbits\n",
    "    \n",
    "    The galaxy is given out in a numpy array, of shape [37,7], \n",
    "    with each row corresponding to a particle, and the columns corresponding to:\n",
    "    x, y, z, vx, vy, vz, mass\n",
    "    '''\n",
    "    n_particles_per_galaxy = 37\n",
    "    galaxy = np.zeros([n_particles_per_galaxy, 7])\n",
    "    galaxy[0] = [0, 0, 0, 0, 0, 0, 1] # central particle\n",
    "    phi_tmp = np.linspace(0, 2*np.pi, 6, endpoint=False)\n",
    "    v_tmp = 1.04\n",
    "    galaxy[1:7] = np.stack([np.cos(phi_tmp), np.sin(phi_tmp), np.zeros(6), \n",
    "                            -v_tmp*np.sin(phi_tmp), v_tmp*np.cos(phi_tmp), np.zeros(6), np.ones(6)]).T\n",
    "    phi_tmp = np.linspace(0, 2*np.pi, 8, endpoint=False)\n",
    "    v_tmp = 1.79\n",
    "    galaxy[7:15] = np.stack([2*np.cos(phi_tmp), 2*np.sin(phi_tmp), np.zeros(8),\n",
    "                                -v_tmp*np.sin(phi_tmp), v_tmp*np.cos(phi_tmp), np.zeros(8), np.ones(8)]).T\n",
    "    phi_tmp = np.linspace(0, 2*np.pi, 10, endpoint=False)\n",
    "    v_tmp = 2.22\n",
    "    galaxy[15:25] = np.stack([3*np.cos(phi_tmp), 3*np.sin(phi_tmp), np.zeros(10),\n",
    "                                -v_tmp*np.sin(phi_tmp), v_tmp*np.cos(phi_tmp), np.zeros(10), 0.7 * np.ones(10)]).T\n",
    "    phi_tmp = np.linspace(0, 2*np.pi, 12, endpoint=False)\n",
    "    v_tmp = 2.47\n",
    "    galaxy[25:37] = np.stack([4*np.cos(phi_tmp), 4*np.sin(phi_tmp), np.zeros(12),\n",
    "                                -v_tmp*np.sin(phi_tmp), v_tmp*np.cos(phi_tmp), np.zeros(12), 0.3 * np.ones(12)]).T\n",
    "    return galaxy"
   ]
  },
  {
   "cell_type": "markdown",
   "metadata": {},
   "source": [
    "Some advice on calculating the gravitational force:\n",
    "\n",
    "* Recall the expression for the Plummer sphere's potential and associated force (given in lectures). This is what you need to implement.\n",
    "*  You therefore need to calculate the relative positions of all particles to all others. This is used to calculate the force from every particle on every other particle. These are then summed to give the net force on each particle.\n",
    "* Direct calculation (rather than a tree code or anything more complicated) is the best approach here. \n",
    "* You must not calculate the force from a particle on itself.\n",
    "* There are two possible ways I can recommend for calculating all the forces\n",
    "    1. Using numpy's broadcasting and the numpy command np.newaxis to calculate the force between all pairs of particles in one go. If you have done this before then it is a good approach, but quite non-intuitive if you have limited python experience.\n",
    "    2. Loop over all particles, and calculate the force on that particle from all other particles. This is more intuitive, but slower. It is the approach I would recommend if you are not familiar with numpy broadcasting. For example, if the particles x positions are all stored in the array x, then the relative x positions of all particles to the first particle are given by x - x[0].  \n"
   ]
  },
  {
   "cell_type": "code",
   "execution_count": 17,
   "metadata": {},
   "outputs": [],
   "source": [
    "def GravForceParticles(galaxy, smoothing_length=1):\n",
    "    '''A function that calculates the gravitational potential due to a set of N particles\n",
    "    \n",
    "    The particles are given as a numpy array, of shape [N,7], where \n",
    "    with each row corresponds to a particle, and the columns correspond to:\n",
    "    x, y, z, vx, vy, vz, mass\n",
    "\n",
    "    We assume the particles are Plummer spheres with a smoothing length of 1\n",
    "    '''\n",
    "    # Write this function yourself\n",
    "    # Note that we are looking for the force on each from each particle\n",
    "    return\n",
    "\n",
    "\n",
    "galaxy1 = CreateGalaxy()\n",
    "\n",
    "# Calculate the force on each particle in galaxy1\n",
    "\n",
    "# Confirm that the particles are on nearly circular orbits by comparing the magnitude of the force on each\n",
    "# particle to the gravitational force required to keep a particle in a circular orbit at its current radius\n",
    "# and velocity (i.e., v^2/r).\n",
    "\n",
    "# Make that plot here. you should expect many stars to have identical required forces, \n",
    "# because we set them to be in rings.\n"
   ]
  },
  {
   "cell_type": "code",
   "execution_count": null,
   "metadata": {},
   "outputs": [],
   "source": []
  },
  {
   "cell_type": "code",
   "execution_count": 18,
   "metadata": {},
   "outputs": [],
   "source": [
    "def TakeLeapfrogStep(GravFunc, galaxy, dt=0.01, smoothing_length=1):\n",
    "    '''A function that takes a single leapfrog step for a set of particles\n",
    "    \n",
    "    The particles are given as a numpy array, of shape [N,7], where \n",
    "    with each row corresponds to a particle, and the columns correspond to:\n",
    "    x, y, z, vx, vy, vz, mass\n",
    "\n",
    "    We assume the particles are Plummer spheres with a smoothing length that by default is 1,\n",
    "    and the function which calculates the gravitational force is given by GravFunc\n",
    "    (for you it sould be the function GravForceParticles you defined above)\n",
    "    '''\n",
    "    # Write this function yourself\n",
    "    return\n",
    "\n",
    "\n",
    "# Take one leapfrog step by dt=0.01 and check that the results are sensible. Make a plot comparing change in position to velocity, \n",
    "# and change in velocity to force (in both cases remembering the factor of dt)."
   ]
  },
  {
   "cell_type": "code",
   "execution_count": 19,
   "metadata": {},
   "outputs": [],
   "source": [
    "x_shift, y_shift, vy_shift = -4, -5, 2 \n",
    "\n",
    "galaxy1 = CreateGalaxy()\n",
    "galaxy1[:,0] += x_shift\n",
    "galaxy1[:,1] += y_shift\n",
    "galaxy1[:,4] += vy_shift\n",
    "\n",
    "galaxy2 = CreateGalaxy()\n",
    "galaxy2[:,0] -= x_shift\n",
    "galaxy2[:,1] -= y_shift\n",
    "galaxy2[:,4] -= vy_shift\n",
    "\n",
    "# Run the simulation forwards in time for 12 time units (i.e., 1200 steps) and plot the results (one panel for each time unit, i.e., 12 graphs in all)"
   ]
  },
  {
   "cell_type": "markdown",
   "metadata": {},
   "source": [
    "#### Question\n",
    "\n",
    "The simulation uses 37 lightbulbs (particles) to represent a galaxy that contains billions upon billions of stars. It does this to solve the 7 dimensional collionless Boltzman differential equation. Explain what each of these particles represents, and why the 7 dimension differential equation can be solved in this way. \n",
    "\n",
    "$\\color{blue}{\\text{[Give your answer here]}}$"
   ]
  },
  {
   "cell_type": "markdown",
   "metadata": {},
   "source": [
    "### Final task\n",
    "\n",
    "Holmberg argued that the deformations of the two galaxies caused a loss of energy that could result in a merger. Plot the total energy of the system as a function of time to see if this is the case in your simulation.\n",
    "\n",
    "The details of the interaction between these two galaxies depend primarily on the relative velocity at the start of the simulation (=2 vy_shift) and the 'impact parameter' i.e., how far apart the centres would pass if there was no gravitational interaction ( = 2 x_shift). The sign of x_shift is also important.\n",
    "\n",
    "In code below, try different values of these parameters to see how the interaction changes and summarize your findings with plots and text.\n",
    "\n",
    "Explain why the sign of x_shift is important in determining the outcome of the interaction."
   ]
  },
  {
   "cell_type": "code",
   "execution_count": 20,
   "metadata": {},
   "outputs": [],
   "source": [
    "# This cell intentionally left blank for you to fill."
   ]
  },
  {
   "cell_type": "markdown",
   "metadata": {},
   "source": [
    "This cell also intentionally left blank for you to fill. As above, feel free to add extra cells as needed."
   ]
  }
 ],
 "metadata": {
  "jupytext": {
   "formats": "ipynb,py:percent"
  },
  "kernelspec": {
   "display_name": "Python 3",
   "language": "python",
   "name": "python3"
  },
  "language_info": {
   "codemirror_mode": {
    "name": "ipython",
    "version": 3
   },
   "file_extension": ".py",
   "mimetype": "text/x-python",
   "name": "python",
   "nbconvert_exporter": "python",
   "pygments_lexer": "ipython3",
   "version": "3.10.2"
  }
 },
 "nbformat": 4,
 "nbformat_minor": 2
}
