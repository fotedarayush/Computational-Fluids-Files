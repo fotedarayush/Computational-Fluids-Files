{
 "cells": [
  {
   "cell_type": "markdown",
   "metadata": {},
   "source": [
    "# The Jupyter notebook\n",
    "\n",
    "This is a Jupyter notebook. It is a useful way of combining code, plots and text into a single document. In this workshop, I will be introducing (some of) you to using these notebooks and some of the basic Python skills that you will need to complete the course.\n",
    "\n",
    "Important disclaimer: I make no claim that what I show you is the purest 'Pythonic' way of doing things, but it is a reasonable set of tools that will get you through the course. \n",
    "\n",
    "The basics of the coding will not be needed by some of you, but the problems related to phase-space flows should be newer to you"
   ]
  },
  {
   "cell_type": "markdown",
   "metadata": {},
   "source": [
    "## Each of these individual \"cells\" can contain text or code. \n",
    "\n",
    "Text is entered in the markdown language [https://www.markdownguide.org/], basically it's a lot like LaTeX, but you have a few simpler options, such as making headings by starting a line with `#` or `##`, and making lists by starting lines with `*`.\n",
    "\n",
    "### Warning!\n",
    "Notebooks execute code in the order you run the cells, not the order they appear in the notebook. You need to be careful about this, as it can lead to unexpected results otherwise."
   ]
  },
  {
   "cell_type": "markdown",
   "metadata": {},
   "source": [
    "## Setting up Python to do some science\n",
    "\n",
    "Python's main selling point is the rich variety of code packages that already exist and are easy to add to your code so that you can use them. The three key ones for us are these: \n",
    "\n",
    "### numpy\n",
    "numpy is a package that allows you to do numerical calculations in Python. It is very fast and has a wide range of functions that are useful for scientific computing. Notably it is very fast at doing calculations on arrays of numbers. It can also do things like random number generation and matrix algebra. [https://numpy.org/]\n",
    "\n",
    "### matplotlib\n",
    "matplotlib is a package that allows you to make plots in Python. It is very flexible and can make a wide range of plots. It is also relatively easy to use. We will generally use the `pyplot` module from matplotlib, which is a simplified interface to the package. [https://matplotlib.org/]\n",
    "\n",
    "### scipy\n",
    "scipy is a package that builds on numpy and provides a wide range of scientific computing tools. We will use it for things like numerical integration and binning data. [https://www.scipy.org/]"
   ]
  },
  {
   "cell_type": "code",
   "execution_count": 1,
   "metadata": {},
   "outputs": [],
   "source": [
    "# N.B. this is how I leave a comment in my code, I put it after a # symbol\n",
    "\n",
    "# Importing the modules so that we can use them is as simple as this:\n",
    "import numpy as np\n",
    "import matplotlib.pyplot as plt\n",
    "import scipy.integrate as integrate\n",
    "import scipy.stats"
   ]
  },
  {
   "cell_type": "markdown",
   "metadata": {},
   "source": [
    "### For use on university machines/your machine if necessary"
   ]
  },
  {
   "cell_type": "code",
   "execution_count": null,
   "metadata": {},
   "outputs": [],
   "source": [
    "\n",
    "# If you don not have numpy, matplotib or scipy installed, you can install them by running the following commands \n",
    "# (uncomment them as needed). You only need to run them once, and then you can comment them out again.\n",
    "\n",
    "#import sys\n",
    "#!{sys.executable} -m pip install numpy\n",
    "\n",
    "#!{sys.executable} -m pip install scipy\n",
    "#!{sys.executable} -m pip install matplotlib"
   ]
  },
  {
   "cell_type": "markdown",
   "metadata": {},
   "source": [
    "## Some simple operations using these libraries\n",
    "\n",
    "I'm going to give a few quick examples of how these work. These should help you to get started with the exercises."
   ]
  },
  {
   "cell_type": "markdown",
   "metadata": {},
   "source": [
    "### Numpy"
   ]
  },
  {
   "cell_type": "code",
   "execution_count": 2,
   "metadata": {},
   "outputs": [],
   "source": [
    "# Python loves a list, defined by square brackets\n",
    "x = [1, 2, 3, 4, 5]\n",
    "\n",
    "# But they are not very good for doing maths, for example, you might know what to expect with this:\n",
    "y = x * 2"
   ]
  },
  {
   "cell_type": "code",
   "execution_count": null,
   "metadata": {},
   "outputs": [],
   "source": [
    "# But you get this:\n",
    "print(y)"
   ]
  },
  {
   "cell_type": "code",
   "execution_count": null,
   "metadata": {},
   "outputs": [],
   "source": [
    "# Or, just as bad, you might expect this to work:\n",
    "y = x + 2\n",
    "print(y)"
   ]
  },
  {
   "cell_type": "code",
   "execution_count": null,
   "metadata": {},
   "outputs": [],
   "source": [
    "# But if i put it in a numpy array, it works as expected\n",
    "x = np.array([1, 2, 3, 4, 5]) # note that any numpy command has to begin `np.`\n",
    "y = x + 2\n",
    "print(y)"
   ]
  },
  {
   "cell_type": "code",
   "execution_count": null,
   "metadata": {},
   "outputs": [],
   "source": [
    "# So always put things in numpy arrays if you want to do maths with them\n",
    "# You can also get numpy to make those arrays for you, for example\n",
    "x = np.arange(0, 10, 2) # set array to values from 0 to 10 in steps of 2 – note there is no 10 in the array\n",
    "x2 = np.linspace(0, 10, 6) # set array to values evenly spaced from 0 to 10 (including 10) with 6 values\n",
    "print([x, x2])"
   ]
  },
  {
   "cell_type": "code",
   "execution_count": null,
   "metadata": {},
   "outputs": [],
   "source": [
    "# If you want to know how a function works, you have a few options\n",
    "# 1. Use the help function\n",
    "print(help(np.linspace))"
   ]
  },
  {
   "cell_type": "code",
   "execution_count": null,
   "metadata": {},
   "outputs": [],
   "source": [
    "\n",
    "# 2. Use the question mark\n",
    "?np.linspace\n",
    "# 3. Use the internet - Stack Overflow is often your friend\n"
   ]
  },
  {
   "cell_type": "code",
   "execution_count": null,
   "metadata": {},
   "outputs": [],
   "source": [
    "# You can also demand random numbers. The preferred way to do this is to create a 'generator' which you then use to create random numbers\n",
    "\n",
    "rng = np.random.default_rng() # create a random number generator\n",
    "x = rng.random(10) # create an array of 10 random numbers between 0 and 1\n",
    "x2 = rng.normal(0, 1, 10) # create an array of 10 random numbers from a normal distribution with mean 0 and standard deviation 1\n",
    "print(x)\n",
    "print(x2)"
   ]
  },
  {
   "cell_type": "code",
   "execution_count": null,
   "metadata": {},
   "outputs": [],
   "source": [
    "# One can equally create 2D arrays, or even more dimensions\n",
    "x = np.array([[1, 2, 3], [4, 5, 6]]) # create a 2D array\n",
    "xr = rng.random((2, 3)) # create a 2D array of random numbers\n",
    "print(x)\n",
    "print (xr)"
   ]
  },
  {
   "cell_type": "markdown",
   "metadata": {},
   "source": [
    "numpy has a wide range of useful functions, and it is usually well worth looking at the documentation to see if there is a function that does what you want. Here are a few examples of things you can do with numpy."
   ]
  },
  {
   "cell_type": "code",
   "execution_count": null,
   "metadata": {},
   "outputs": [],
   "source": [
    "# Other helpful little functions\n",
    "xmax = np.max(x) # find the maximum value in an array\n",
    "xmin = np.min(x) # find the minimum value in an array\n",
    "xsum = np.sum(x) # find the sum of all the values in an array\n",
    "xmean = np.mean(x) # find the mean of all the values in an array\n",
    "print([xmax, xmin, xsum, xmean])\n",
    "print([np.pi, np.e]) # get the value of pi and e"
   ]
  },
  {
   "cell_type": "code",
   "execution_count": null,
   "metadata": {},
   "outputs": [],
   "source": [
    "# Or standard mathematical functions, for example\n",
    "print(np.sin(x)) # note that this assumes x is in radians\n",
    "print(np.sqrt(x))"
   ]
  },
  {
   "cell_type": "markdown",
   "metadata": {},
   "source": [
    "### Matplotlib"
   ]
  },
  {
   "cell_type": "code",
   "execution_count": null,
   "metadata": {},
   "outputs": [],
   "source": [
    "# Draw a simple line graph\n",
    "x = np.linspace(0, 10, 21)\n",
    "y = x**2 # note that this is a vectorised operation, so it squares each element of x\n",
    "plt.plot(x, y)\n",
    "plt.xlabel('x')\n",
    "plt.ylabel('y')\n",
    "plt.show() # this is necessary to actually display the plot properly"
   ]
  },
  {
   "cell_type": "code",
   "execution_count": null,
   "metadata": {},
   "outputs": [],
   "source": [
    "# Or alternatively, plotting points\n",
    "plt.plot(x, y, '.') # '.' means plot dots, not lines\n",
    "plt.xlabel('x')\n",
    "plt.ylabel('y')\n",
    "plt.show()"
   ]
  },
  {
   "cell_type": "markdown",
   "metadata": {},
   "source": [
    "### Better plotting\n",
    "\n",
    "The above are examples of the most basic plots that you will need to make in Python, however, they are pretty ugly. There are various ways of making your plots look nicer. I will give my very simple usual method for making text readable and axes useful, here but other ways of doing this are available.\n"
   ]
  },
  {
   "cell_type": "code",
   "execution_count": 16,
   "metadata": {},
   "outputs": [],
   "source": [
    "plt.rcParams.update({\n",
    "     'xtick.minor.visible' : True, \n",
    "     'xtick.top' : True,\n",
    "     'ytick.minor.visible' : True, \n",
    "     'ytick.right' : True,\n",
    "     'xtick.direction' : 'in', \n",
    "     'ytick.direction' :'in',\n",
    "     'font.size' : 14,}\n",
    ")"
   ]
  },
  {
   "cell_type": "code",
   "execution_count": null,
   "metadata": {},
   "outputs": [],
   "source": [
    "# But that's a terrible plot. Let's do something better.\n",
    "fig, ax = plt.subplots(nrows=1, ncols=2, figsize=(7,4)) # create a figure with two subplots\n",
    "\n",
    "# I now plot by giving a command to the axes (i.e., a single panel of the figure)\n",
    "# The syntax is a little different from when we just use plt.plot, but the documentation is pretty good\n",
    "\n",
    "ax[0].plot(x, y, c='r') # plot in red\n",
    "sca = ax[1].scatter(x, y, c=np.sin(x)) # scatter plot where the colour is determined by the sin of x\n",
    "plt.colorbar(sca , ax=ax[1], label='sin(x)') # add a colour bar to the second plot\n",
    "\n",
    "# Add some labels\n",
    "ax[0].set_xlabel('x')\n",
    "ax[0].set_ylabel('y')\n",
    "ax[1].set_xlabel('y')\n",
    "ax[1].set_ylabel('x')\n",
    "\n",
    "ax[0].set_title(r'$y = x^2$') # Notice that you can use LaTeX formating for maths, but you have to put an 'r' before the string\n",
    "ax[1].set_title('flipped it')\n",
    "\n",
    "plt.tight_layout() # this makes sure the plots don't overlap\n",
    "\n",
    "plt.show()\n",
    "\n",
    "\n"
   ]
  },
  {
   "cell_type": "markdown",
   "metadata": {},
   "source": [
    "#### Using scipy and matplotlib to make a 2D colourplot\n",
    "A common use of matplotlib (and often scipy) is to make a 2D colourplot. This is a plot where the value of a function is shown as a colour on a 2D grid. This is a very useful way of visualising data, and is often used in scientific papers. Here is an example of how to make one of these plots."
   ]
  },
  {
   "cell_type": "markdown",
   "metadata": {},
   "source": [
    "First just a simple example of a 2D plot using matplotlib alone. This plots the density of the points in a 2D histogram (normalised so the integral over the plane is 1)."
   ]
  },
  {
   "cell_type": "code",
   "execution_count": null,
   "metadata": {},
   "outputs": [],
   "source": [
    "x_blob = rng.normal(0, 1, 1000)\n",
    "y_blob = rng.normal(0, 1, 1000)\n",
    "plt.hist2d(x_blob, y_blob, bins=[np.linspace(-3, 3, 21), np.linspace(-3, 3, 21)], density=True) # create a 2D histogram\n",
    "plt.xlabel('x')\n",
    "plt.ylabel('y')\n",
    "plt.colorbar(label='density')\n",
    "plt.show()\n"
   ]
  },
  {
   "cell_type": "markdown",
   "metadata": {},
   "source": [
    "Now using scipy to calculate the mean value of some third quantity (z) in each bin, then plotting it with matplotlib. This is a very common use of these two packages together.\n",
    "\n",
    "Note that we are use the `imshow` function from matplotlib to make the colourplot. This function is very common, but it is also a bit of a pain. Note that you have to take the transpose of the array you are plotting, and that the origin needs to be set to 'lower' to get the axes the right way up."
   ]
  },
  {
   "cell_type": "code",
   "execution_count": null,
   "metadata": {},
   "outputs": [],
   "source": [
    "z = np.sin(5.*x_blob) + rng.normal(0, 0.1, 1000) # create a noisy sin wave\n",
    "z_average = scipy.stats.binned_statistic_2d(x_blob, y_blob, z, statistic='mean', bins=[np.linspace(-3, 3, 21), np.linspace(-3, 3, 21)]) # calculate the mean of z in each bin\n",
    "\n",
    "plt.imshow(z_average.statistic.T, # Transpose the array so that it is oriented correctly\n",
    "           extent=[-3, 3, -3, 3], # tells it the range of the data in x & y\n",
    "           origin='lower') # tells it to plot the origin in the lower left\n",
    "\n",
    "plt.xlabel('x')\n",
    "plt.ylabel('y')\n",
    "plt.colorbar(label='mean z')\n",
    "plt.show()"
   ]
  },
  {
   "cell_type": "code",
   "execution_count": null,
   "metadata": {},
   "outputs": [],
   "source": []
  },
  {
   "cell_type": "markdown",
   "metadata": {},
   "source": [
    "## Important Python details\n",
    "\n",
    "### Indentation\n",
    "Python uses indentation to define blocks of code. This is different from many other languages, which use curly braces or similar. This means that you need to be careful with your indentation.\n",
    "\n",
    "### Functions\n",
    "Functions in Python are defined using the `def` keyword. They can take any number of arguments and can return any number of values. A few examples are given below.\n"
   ]
  },
  {
   "cell_type": "markdown",
   "metadata": {},
   "source": [
    "# Phase-space density"
   ]
  },
  {
   "cell_type": "markdown",
   "metadata": {},
   "source": [
    "Now we've done a quick introduction to Python notebooks for anyone who needs it, we can move on to the meat of the workshop.\n",
    "\n",
    "First of all, we are going to look at the evolution of phase-space density in a simple system, namely the behaviour of a large number of equivalent pendulums.\n",
    "\n",
    "We're going to make the simplifying assumption that the pendulums are all of mass 1kg and length 1m. This means that our equations of motion are relatively simple. You have the equations of motion in the notes, and I will implement it below for small swings of the pendulum, i.e., in the limit $\\sin\\theta = \\theta$."
   ]
  },
  {
   "cell_type": "code",
   "execution_count": 20,
   "metadata": {},
   "outputs": [],
   "source": [
    "# equations of motion for a phase-space point corresponding to our pendulum, in the limit of small angles\n",
    "\n",
    "phase_space_point_0 = np.array([0.05, 0]) # initial angle and momentum\n",
    "amplitude = 0.05 # amplitude of the oscillation\n",
    "g = 9.8 # m s^{-2}\n",
    "\n",
    "def time_derivative_small_angle(phase_space_point, time): \n",
    "    '''Compute the time derivative of a phase-space point for a 1m, 1kg pendulum in the small angle limit\n",
    "    \n",
    "    Note that the time argument is not used in this function, but it is necessary for the integration function to work'''\n",
    "    angle = phase_space_point[0]\n",
    "    momentum = phase_space_point[1]\n",
    "    angle_derivative = momentum # because m & l are 1\n",
    "    momentum_derivative = -g * angle # because m & l are 1 and small angle approximation\n",
    "    return [angle_derivative, momentum_derivative]\n"
   ]
  },
  {
   "cell_type": "markdown",
   "metadata": {},
   "source": [
    "### We're going to use a scipy package to follow the evolution of the pendulum.\n",
    "\n",
    "Generally, we need to use numerical integration to follow the evolution of a phase-space point. For a simple pendulum we can also solve this analytically, but we're going to use the numerical integration to show you how it works."
   ]
  },
  {
   "cell_type": "code",
   "execution_count": 21,
   "metadata": {},
   "outputs": [],
   "source": [
    "t_numerical = np.linspace(0, 10, 500) # The values of t at which I want the integrator to give me results\n",
    "results = integrate.odeint(func=time_derivative_small_angle, \n",
    "                           y0=phase_space_point_0, \n",
    "                           t=t_numerical)"
   ]
  },
  {
   "cell_type": "markdown",
   "metadata": {},
   "source": [
    "In this case we can compare to the analytical solution, which is a simple harmonic oscillator.\n",
    "\n",
    "$\\theta = 0.05 \\cos(\\sqrt{g}t)$  \n",
    "$p_\\theta = -0.05\\sqrt{g}\\sin(\\sqrt{g}t) $"
   ]
  },
  {
   "cell_type": "code",
   "execution_count": null,
   "metadata": {},
   "outputs": [],
   "source": [
    "fig, ax = plt.subplots(1,3, figsize=(12,3))\n",
    "t = np.linspace(0,2*np.pi/np.sqrt(g), 50)\n",
    "omega = np.sqrt(g)\n",
    "\n",
    "theta_numerical = results[:,0] # the first column of the results array is the angle\n",
    "p_theta_numerical = results[:,1] # the second column of the results array is the momentum\n",
    "\n",
    "ax[0].plot(t_numerical, theta_numerical, label='numerical')\n",
    "ax[0].plot(t, amplitude*np.cos(t*omega), 'x',label='analytical')\n",
    "ax[0].set_xlabel('t')\n",
    "ax[0].set_ylabel(r'$\\theta$')\n",
    "ax[0].set_xlim(0,2*np.pi/np.sqrt(g))\n",
    "ax[0].legend(frameon=False)\n",
    "\n",
    "ax[1].plot(t_numerical, p_theta_numerical, label='numerical')\n",
    "ax[1].plot(t, -amplitude*omega*np.sin(omega*t), 'x',label='analytical')\n",
    "ax[1].set_xlabel('t')\n",
    "ax[1].set_ylabel(r'$p_\\theta$')\n",
    "ax[1].set_xlim(0,2*np.pi/np.sqrt(g))\n",
    "\n",
    "\n",
    "ax[2].plot(theta_numerical, p_theta_numerical, label='numerical')\n",
    "ax[2].plot(amplitude*np.cos(t*omega), -amplitude*omega*np.sin(omega*t), 'x',label='analytical')\n",
    "ax[2].set_xlabel(r'$\\theta$')\n",
    "ax[2].set_ylabel(r'$p_\\theta$')\n",
    "plt.legend(frameon=False)\n",
    "plt.tight_layout()\n",
    "plt.show()"
   ]
  },
  {
   "cell_type": "markdown",
   "metadata": {},
   "source": [
    "# Your turn!"
   ]
  },
  {
   "cell_type": "markdown",
   "metadata": {},
   "source": [
    "Now I want you to write some code to calculate the phase-space trajectory of a pendulum, now for the general case where $\\sin\\theta \\neq \\theta$."
   ]
  },
  {
   "cell_type": "code",
   "execution_count": 23,
   "metadata": {},
   "outputs": [],
   "source": [
    "\n",
    "def time_derivative_pendulum(phase_space_point, time):\n",
    "    '''Compute the time derivative of a phase-space point for a 1m, 1kg pendulum for any angle\n",
    "    \n",
    "    You will need to write this function, following the pattern of the small angle function above'''\n",
    "    return\n",
    "\n",
    "# Do the same kind of integral as before, you can use the same starting point and t\n",
    "\n",
    "\n",
    "# Plot the results\n",
    "\n",
    "\n"
   ]
  },
  {
   "cell_type": "markdown",
   "metadata": {},
   "source": [
    "## Do the same for many pendulums to create a map of the possible phase-space trajectories "
   ]
  },
  {
   "cell_type": "code",
   "execution_count": 24,
   "metadata": {},
   "outputs": [],
   "source": [
    "# Here I create a 10 by 2 array containing the initial phase space points, with the angles evenly spaced between 0 and 0.9pi\n",
    "\n",
    "n_starting_points = 10\n",
    "initial_thetas = np.linspace(0, 0.9*np.pi, n_starting_points)\n",
    "initial_p_thetas = np.zeros_like(initial_thetas)\n",
    "initial_phase_space_points = np.array([initial_thetas, initial_p_thetas]).T # the .T is a transpose, so that the array is the right shape\n",
    "\n",
    "\n",
    "for i in range(n_starting_points):\n",
    "    # Integrate the equations of motion for the starting point, which is initial_phase_space_points[i]\n",
    "\n",
    "    # Plot the results in the theta-p_theta plane (no need to plot the time evolution)\n",
    "    \n",
    "    j=i # this is just so there's something in this loop, you can delete it\n",
    "\n",
    "\n",
    "\n",
    "\n"
   ]
  },
  {
   "cell_type": "markdown",
   "metadata": {},
   "source": [
    "You should produce plots that show concentric rings around the centre, but for the pendulums released at larger angles, the rings should be less circular/elliptical."
   ]
  },
  {
   "cell_type": "markdown",
   "metadata": {},
   "source": [
    "## Phase-space density\n",
    "\n",
    "You will now look at the evolution of the phase-space density of the pendulum system. To do this we're look at the evolution of the area bounded by 4 points that start in a small square in phase-space.\n",
    "\n",
    "If phase-space density is to be conserved, then the area should remain constant."
   ]
  },
  {
   "cell_type": "code",
   "execution_count": null,
   "metadata": {},
   "outputs": [],
   "source": []
  },
  {
   "cell_type": "code",
   "execution_count": 25,
   "metadata": {},
   "outputs": [],
   "source": [
    "# the four corners of a square in phase space\n",
    "initial_phase_space_square = np.array([[1,1], [1,1.2], [1.2,1.2], [1.2,1]]) \n",
    "\n",
    "all_output = np.zeros((4, len(t_numerical), 2)) \n",
    "# create an array to store the results of the integrations\n",
    "\n",
    "for i in range(4):\n",
    "    # Integrate the equations of motion for the starting point, which is initial_phase_space_square[i]\n",
    "\n",
    "    all_output[i] = 0 # replace zero here wih the output of the integration\n",
    "\n",
    "# Plot a few examples of the positions of these boxes in phase space after some time\n"
   ]
  },
  {
   "cell_type": "code",
   "execution_count": 26,
   "metadata": {},
   "outputs": [],
   "source": [
    "def PolyArea(x,y):\n",
    "    '''A function that calculates the area of a polygon given the x and y coordinates of its vertices'''\n",
    "    # Thanks to the writer of the top answer here: \n",
    "    # https://stackoverflow.com/questions/24467972/calculate-area-of-polygon-given-x-y-coordinates\n",
    "    return 0.5*np.abs(np.dot(x,np.roll(y,1))-np.dot(y,np.roll(x,1)))\n",
    "\n",
    "# Using the function above (or otherwise), calculate the area of the square in phase space as a function of time\n"
   ]
  },
  {
   "cell_type": "markdown",
   "metadata": {},
   "source": [
    "Is the area you've calculated conserved over the time you have integrated the system for? If not, why not?"
   ]
  },
  {
   "cell_type": "markdown",
   "metadata": {},
   "source": [
    "# Orbits in the Milky Way\n",
    "\n",
    "OK, this is kind of your lecturer's specialism, so you'll have to excuse him setting you it as a topic here. To do so, unfortunately we have to set up a bit of code. Please feel free to ignore the next cell if you're not interested in this."
   ]
  },
  {
   "cell_type": "code",
   "execution_count": 27,
   "metadata": {},
   "outputs": [],
   "source": [
    "# units kpc =  3.0857e19 m; Msun = 1.98847e30 kg; t = kpc/(km/s) = 3.0857e16 s\n",
    "G = 6.67e-11 / (3.0857e19)**3 * 1.98847e30 * (3.0857e16)**2\n",
    "\n",
    "def miyamoto_nagai_potential(x, y, z, a, b, M):\n",
    "    \"\"\"\n",
    "    Calculate the potential and force from a Miyamoto-Nagai potential.\n",
    "    \n",
    "    Arguments:\n",
    "    x, y, z -- Cartesian coordinates of the point\n",
    "    a -- scale parameter in the x-y plane\n",
    "    b -- scale parameter in the z direction\n",
    "    M -- total mass\n",
    "    \n",
    "    Returns:\n",
    "    potential -- the potential at the given point\n",
    "    force_x, force_y, force_z -- the force components in the x, y, and z directions at the given point\n",
    "    \"\"\"\n",
    "    R = np.sqrt(x**2 + y**2)\n",
    "    bracketed_term = R**2 + (a + np.sqrt(z**2 + b**2))**2\n",
    "    potential = -G * M / np.sqrt(bracketed_term)\n",
    "    \n",
    "    force_x = x * potential / bracketed_term\n",
    "    force_y = y * potential / bracketed_term\n",
    "    force_z = z * potential / bracketed_term * (a + np.sqrt(z**2 + b**2)) / np.sqrt(z**2 + b**2)\n",
    "    \n",
    "    return potential, force_x, force_y, force_z\n",
    "\n",
    "def logarithmic_potential(x, y, z, v0, r_core):\n",
    "    \"\"\"\n",
    "    Calculate the potential and force from a logarithmic galactic potential.\n",
    "    \n",
    "    Arguments:\n",
    "    x, y, z -- Cartesian coordinates of the point\n",
    "    v0 -- characteristic velocity\n",
    "    r_core -- core radius\n",
    "    \n",
    "    Returns:\n",
    "    potential -- the potential at the given point\n",
    "    force_x, force_y, force_z -- the force components in the x, y, and z directions at the given point\n",
    "    \"\"\"\n",
    "    R = np.sqrt(x**2 + y**2)\n",
    "    r = np.sqrt(R**2 + z**2)\n",
    "    \n",
    "    potential = 0.5 * v0**2 * np.log(r_core**2 + r**2)\n",
    "    \n",
    "    force_x = -v0**2 * x / (r**2 + r_core**2)\n",
    "    force_y = -v0**2 * y / (r**2 + r_core**2)\n",
    "    force_z = -v0**2 * z / (r**2 + r_core**2)\n",
    "    \n",
    "    return potential, force_x, force_y, force_z\n",
    "\n",
    "def combined_miyamoto_logarithmic(x,y,z,a,b,M,v0,r_core):\n",
    "    \"\"\"\n",
    "    Calculate the combined potential and force from Miyamoto-Nagai and logarithmic galactic potentials.\n",
    "    \n",
    "    Arguments:\n",
    "    x, y, z -- Cartesian coordinates of the point\n",
    "    a -- scale parameter in the x-y plane for Miyamoto-Nagai potential\n",
    "    b -- scale parameter in the z direction for Miyamoto-Nagai potential\n",
    "    M -- total mass for Miyamoto-Nagai potential\n",
    "    v0 -- characteristic velocity for logarithmic potential\n",
    "    r_core -- core radius for logarithmic potential\n",
    "    G -- gravitational constant\n",
    "    \n",
    "    Returns:\n",
    "    potential -- the combined potential at the given point\n",
    "    force_x, force_y, force_z -- the combined force components in the x, y, and z directions at the given point\n",
    "    \"\"\"\n",
    "     \n",
    "    p1, fx1, fy1, fz1 = miyamoto_nagai_potential(x,y,z,a,b,M)\n",
    "    p2, fx2, fy2, fz2 = logarithmic_potential(x,y,z,v0,r_core)\n",
    "    return p1+p2, fx1+fx2, fy1+fy2, fz1+fz2\n",
    "\n",
    "def Milky_Way_Potential_Force(x, y, z):\n",
    "    \"\"\"\n",
    "    Calculate the combined potential and force from the Milky Way potential.\n",
    "    \n",
    "    Arguments:\n",
    "    x, y, z -- Cartesian coordinates of the point\n",
    "    \n",
    "    Returns:\n",
    "    potential -- the combined potential at the given point\n",
    "    force_x, force_y, force_z -- the combined force components in the x, y, and z directions at the given point\n",
    "    \"\"\"\n",
    "    return combined_miyamoto_logarithmic(x, y, z,  a=5, b=0.25, M=6e10, v0=195, r_core=2)\n"
   ]
  },
  {
   "cell_type": "markdown",
   "metadata": {},
   "source": [
    "## The key points from the above code\n",
    "\n",
    "We are working with the following units: Distance unit kpc; mass unit Msun; and velocity unit 1 km/s. This means that the unit of time (=1 kpc/(km/s)) is 0.9776 Gyr (i.e., $9.776\\times10^8$ years).\n",
    "\n",
    "For scale, the Sun is about 8 kpc from the centre of the Milky Way, the velocity of a circular orbit at this distance is about 220 km/s, and the Sun orbits the centre of the galaxy about once every 0.2 Gyr.\n",
    "\n",
    "I have defined a function **Milky_Way_Potential_Force(x, y, z)** that returns the gravitational potential and force (per unit mass) in the x, y & z directions at a point (x, y, z) in the Milky Way. This is a simple model of the Milky Way, but it is a pretty decent approximation."
   ]
  },
  {
   "cell_type": "markdown",
   "metadata": {},
   "source": [
    "## Your task\n",
    "\n",
    "With this information, you should be able to calculate the orbits of stars in the Milky Way. We can start with the Sun.\n",
    "\n",
    "This is just an extension of what you did with the pendulum, but we have three coordinate directions, and three components of momentum to follow. We'll be working in Cartesian coordinates, so we have $x$, $y$ and $z$ coordinates, and $p_x$, $p_y$ and $p_z$ momenta. Since we're in a collisionless system, we don't have to worry about the interactions between stars, just the gravitational potential, so we can ignore the mass of the Sun itself and just work in terms of the positions and velocities."
   ]
  },
  {
   "cell_type": "code",
   "execution_count": 28,
   "metadata": {},
   "outputs": [],
   "source": [
    "phase_space_point_Sun_now = np.array([8.1, 0, 0.01, 10., 230, 8]) # x, y, z, vx, vy, vz for the now\n",
    "# Values are approximate, but see Schönrich et al. 2010, and Gravity Collaboration et al 2020 for more accurate values\n",
    "\n",
    "def time_derivative_galaxy(phase_space_point, time):\n",
    "    '''Compute the time derivative of a phase-space point for the Milky Way potential\n",
    "    \n",
    "    You will need to write this function, following the pattern of the small angle function above'''\n",
    "\n",
    "    # It should return the time derivative of the phase space point, which is a 6-element array\n",
    "    # The first three elements are the velocities, and the last three elements are the gravitational accelerations\n",
    "    return\n",
    "\n",
    "# Use the same integrator as before to integrate the equations of motion for the starting point, \n",
    "# which is phase_space_point_Sun_now. Times should run from 0 to ~5 Gyr, but feel free to change \n",
    "# that to get better plots.\n",
    "\n",
    "# Plot the results in the x-y plane, and the x-z plane, and the y-z plane\n",
    "\n"
   ]
  },
  {
   "cell_type": "markdown",
   "metadata": {},
   "source": [
    "A bit of science rather than computation: The gravitational potential we are using here is axisymmetric, i.e. $\\Phi(x,y,z) = \\Phi(R,z)$ when we express it in cylindrical polar coordinates. \n",
    "\n",
    "In lectures I went over the Hamiltonian equations of motion, and the consequences of them when we have a potential that is spherically symmetric, i.e. $\\Phi(x,y,z) = \\Phi(r)$. Something similar happens when we have an axisymmetric potential. What do we expect to be conserved, and can you show that it is for the Sun's orbit you have just found?\n",
    "\n",
    "As help, here are the equations for $(v_R, v_\\phi, v_z)$ in terms of $(v_x, v_y, v_z)$:\n",
    "\n",
    "$v_R = \\frac{xv_x + yv_y}{R}$  \n",
    "$v_\\phi = \\frac{-yv_x + xv_y}{R}$  \n",
    "$v_z = v_z$\n",
    "\n",
    "where $R = \\sqrt{x^2 + y^2}$"
   ]
  },
  {
   "cell_type": "code",
   "execution_count": 29,
   "metadata": {},
   "outputs": [],
   "source": [
    "# Compute the relevant quantity from the orbit you've just calculated, and plot it as a function of time\n",
    "\n",
    "# Also calculate the total energy of the orbit, and plot that as a function of time\n"
   ]
  },
  {
   "cell_type": "markdown",
   "metadata": {},
   "source": [
    "#### Lissajous figures"
   ]
  },
  {
   "cell_type": "code",
   "execution_count": null,
   "metadata": {},
   "outputs": [],
   "source": []
  },
  {
   "cell_type": "code",
   "execution_count": null,
   "metadata": {},
   "outputs": [],
   "source": []
  },
  {
   "cell_type": "markdown",
   "metadata": {},
   "source": [
    "### Stretch goal\n",
    "\n",
    "Look, this is the first time I run this workshop, so I don't know how far you'll get. This is the stretch goal.\n",
    "\n",
    "If you can calculate the orbit of the Sun, you can do the same for the orbit of other stars around the Milky Way. We'll look at an odd property of these orbits, which relates to a structure called the surface of section. \n",
    "\n",
    "The below is a way of setting up the orbits of stars in the Milky Way that have the same energy and angular momentum as one another but, if you change the value of **vR0** they will be on different orbits."
   ]
  },
  {
   "cell_type": "code",
   "execution_count": 30,
   "metadata": {},
   "outputs": [],
   "source": [
    "# Initial position and velocity of the star \n",
    "x0, y0, z0 = 8., 0., 0.\n",
    "Lz = 8 * 220\n",
    "KE = 0.5*(150**2 + 220**2 + 50**2)\n",
    "\n",
    "vR0 = 80 # Change this, and see what happens. No larger than 86 (why not?).\n",
    "\n",
    "vz0 = np.sqrt(2*(KE - 0.5*vR0**2 - 0.5*Lz**2/(x0**2))) # This ensures the energy is the same for each orbit\n",
    "vx0, vy0, vz0 = vR0, Lz/x0, vz0\n",
    "\n",
    "# Integrate the equations of motion for the starting point, which is x0, y0, z0, vx0, vy0, vz0\n",
    "\n",
    "\n",
    "# Plot the results in the x-y plane, and the x-z plane, and the y-z plane"
   ]
  },
  {
   "cell_type": "markdown",
   "metadata": {},
   "source": [
    "Very different orbits but having identical energy and angular momentum. The orbits seem to be going all over the place, but we can find real order in this seeming chaos."
   ]
  },
  {
   "cell_type": "markdown",
   "metadata": {},
   "source": [
    "### The surface of section.\n",
    "\n",
    "Plot (as points) the positions of the stars in the $R, v_R$ plane when they go through the line $z=0$. This is known as the surface of section.\n",
    "\n",
    "The best way to do this (approximately) is to take the value when np.abs(z) < 0.05 (or some other small value) and plot that. This requires a 'mask' to be applied to the arrays of positions and velocities.\n",
    "\n",
    "You may need to change the list of times that you want the code to output. "
   ]
  },
  {
   "cell_type": "code",
   "execution_count": 31,
   "metadata": {},
   "outputs": [],
   "source": [
    "# Masking example\n",
    "\n",
    "#mask = np.abs(z) < 0.05\n",
    "#plt.plot(R[mask], vR[mask], 'x')"
   ]
  }
 ],
 "metadata": {
  "kernelspec": {
   "display_name": "Agama_env",
   "language": "python",
   "name": "python3"
  },
  "language_info": {
   "codemirror_mode": {
    "name": "ipython",
    "version": 3
   },
   "file_extension": ".py",
   "mimetype": "text/x-python",
   "name": "python",
   "nbconvert_exporter": "python",
   "pygments_lexer": "ipython3",
   "version": "3.12.4"
  }
 },
 "nbformat": 4,
 "nbformat_minor": 2
}
